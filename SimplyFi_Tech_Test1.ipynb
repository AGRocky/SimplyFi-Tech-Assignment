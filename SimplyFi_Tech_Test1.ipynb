{
 "cells": [
  {
   "cell_type": "code",
   "execution_count": 1,
   "id": "493fa1ce-4e95-46ce-8c31-e09860199364",
   "metadata": {},
   "outputs": [],
   "source": [
    "def formatted_int(value):\n",
    "    # if the value is 100, 10, 1\n",
    "\n",
    "    if len(str(value)) <= 3:\n",
    "        return value\n",
    "\n",
    "    # if the value is 10,000, 1,000\n",
    "    elif  3 < len(str(value)) <= 5:\n",
    "        return f'{str(value)[:-3]},{str(value)[-3:]}'\n",
    "\n",
    "    # if the value is greater the 10,000    \n",
    "    else:\n",
    "        cut = str(value)[:-3]  \n",
    "        o = []\n",
    "        while cut:\n",
    "            o.append(cut[-2:]) # appending from 1000th value(right to left)\n",
    "            cut = cut[:-2]\n",
    "        \n",
    "        o = o[::-1] # reversing list\n",
    "        res = \",\".join(o) \n",
    "        \n",
    "        return f'{res},{str(value)[-3:]}'\n",
    "\n",
    "\n",
    "value1 = 504678"
   ]
  },
  {
   "cell_type": "code",
   "execution_count": 2,
   "id": "d479340f-2961-4403-96cb-851d9ac2dbad",
   "metadata": {},
   "outputs": [
    {
     "name": "stdout",
     "output_type": "stream",
     "text": [
      "5,04,678\n"
     ]
    }
   ],
   "source": [
    "print(formatted_int(value1))\n"
   ]
  },
  {
   "cell_type": "code",
   "execution_count": null,
   "id": "653d538b-d2f3-44ab-b457-8a376327865f",
   "metadata": {},
   "outputs": [],
   "source": []
  }
 ],
 "metadata": {
  "kernelspec": {
   "display_name": "Python 3 (ipykernel)",
   "language": "python",
   "name": "python3"
  },
  "language_info": {
   "codemirror_mode": {
    "name": "ipython",
    "version": 3
   },
   "file_extension": ".py",
   "mimetype": "text/x-python",
   "name": "python",
   "nbconvert_exporter": "python",
   "pygments_lexer": "ipython3",
   "version": "3.9.9"
  }
 },
 "nbformat": 4,
 "nbformat_minor": 5
}
